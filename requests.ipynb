{
 "cells": [
  {
   "cell_type": "code",
   "execution_count": 2,
   "id": "c06aaac4",
   "metadata": {},
   "outputs": [],
   "source": [
    "# ip_url = 'http://ip-api.com/json'\n",
    "import requests\n",
    "\n",
    "class DeviceTracker():\n",
    "    def __init__(self, ip_url):\n",
    "        self.ip_url = ip_url\n",
    "    def get_device_data(self):\n",
    "        ip_req = requests.get(url=self.ip_url)\n",
    "        ip_data = ip_req.json()\n",
    "        return ip_data\n",
    "    def get_user_loc(self):\n",
    "        ip_data = self.get_device_data()\n",
    "        city_name = ip_data['city']\n",
    "        return city_name"
   ]
  },
  {
   "cell_type": "code",
   "execution_count": 3,
   "id": "476374af",
   "metadata": {},
   "outputs": [
    {
     "name": "stdout",
     "output_type": "stream",
     "text": [
      "Chennai\n"
     ]
    }
   ],
   "source": [
    "ip_url = 'http://ip-api.com/json'\n",
    "ip_dev = DeviceTracker(ip_url=ip_url)\n",
    "city_name = ip_dev.get_user_loc()\n",
    "print(city_name)"
   ]
  },
  {
   "cell_type": "code",
   "execution_count": null,
   "id": "32edcfb8",
   "metadata": {},
   "outputs": [],
   "source": []
  }
 ],
 "metadata": {
  "kernelspec": {
   "display_name": "Python 3 (ipykernel)",
   "language": "python",
   "name": "python3"
  },
  "language_info": {
   "codemirror_mode": {
    "name": "ipython",
    "version": 3
   },
   "file_extension": ".py",
   "mimetype": "text/x-python",
   "name": "python",
   "nbconvert_exporter": "python",
   "pygments_lexer": "ipython3",
   "version": "3.9.6"
  }
 },
 "nbformat": 4,
 "nbformat_minor": 5
}
